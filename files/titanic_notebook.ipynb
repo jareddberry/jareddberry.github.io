{
 "cells": [
  {
   "cell_type": "markdown",
   "metadata": {},
   "source": [
    "# Titanic"
   ]
  },
  {
   "cell_type": "markdown",
   "metadata": {},
   "source": [
    "I believe the \"Titanic\" dataset is usually the first that data science aspirants tackle when trying to put skills into practice. I'm no exception, and this notebook represents one of my first end-to-end data science projects, from initial EDA, to feature engineering, to actual model training and evaluation. "
   ]
  },
  {
   "cell_type": "markdown",
   "metadata": {},
   "source": [
    "## 1. Set-up"
   ]
  },
  {
   "cell_type": "code",
   "execution_count": 1,
   "metadata": {
    "collapsed": true
   },
   "outputs": [],
   "source": [
    "# Import data manipulation and visualization libraries\n",
    "import pandas as pd\n",
    "import numpy as np\n",
    "import matplotlib.pyplot as plt\n",
    "import seaborn as sns\n",
    "import os\n",
    "\n",
    "%matplotlib inline\n",
    "\n",
    "sns.set_style('darkgrid')"
   ]
  },
  {
   "cell_type": "code",
   "execution_count": 2,
   "metadata": {
    "collapsed": true
   },
   "outputs": [],
   "source": [
    "# Set directory and import application training data\n",
    "os.chdir(r'C:\\Users\\Jared\\Documents\\datasci\\projects\\kaggle\\titanic')\n",
    "titanic = pd.read_csv('train.csv')\n",
    "test = pd.read_csv('test.csv')"
   ]
  },
  {
   "cell_type": "markdown",
   "metadata": {},
   "source": [
    "These datasets (along with a few others in this projects tab) come from [Kaggle](https://www.kaggle.com/) which I highly, highly recommend as a starting place for honing data science chops. I begin by stacking both the test and training sets on top of one another. I acknowledge there are some potential issues with this, first and foremost being data leakage - obviously, using test data along with training data for pre-processing potentially injects information contained in the test data that we wouldn't typically be able to observe. Since this represents something of a full population provided by Kaggle, instances where I deal with things like mean/median imputing for missing values benefit from using the full sample. By concatenating, I'm able to separate out the test data from the training data when I actually conduct my modelling steps further on"
   ]
  },
  {
   "cell_type": "code",
   "execution_count": 3,
   "metadata": {
    "collapsed": true
   },
   "outputs": [],
   "source": [
    "# Stack train and test data\n",
    "t_obs = titanic.shape[0]\n",
    "t_obs\n",
    "\n",
    "all_data = pd.concat([titanic, test], axis=0)"
   ]
  },
  {
   "cell_type": "code",
   "execution_count": 4,
   "metadata": {},
   "outputs": [
    {
     "data": {
      "text/html": [
       "<div>\n",
       "<style>\n",
       "    .dataframe thead tr:only-child th {\n",
       "        text-align: right;\n",
       "    }\n",
       "\n",
       "    .dataframe thead th {\n",
       "        text-align: left;\n",
       "    }\n",
       "\n",
       "    .dataframe tbody tr th {\n",
       "        vertical-align: top;\n",
       "    }\n",
       "</style>\n",
       "<table border=\"1\" class=\"dataframe\">\n",
       "  <thead>\n",
       "    <tr style=\"text-align: right;\">\n",
       "      <th></th>\n",
       "      <th>PassengerId</th>\n",
       "      <th>Survived</th>\n",
       "      <th>Pclass</th>\n",
       "      <th>Name</th>\n",
       "      <th>Sex</th>\n",
       "      <th>Age</th>\n",
       "      <th>SibSp</th>\n",
       "      <th>Parch</th>\n",
       "      <th>Ticket</th>\n",
       "      <th>Fare</th>\n",
       "      <th>Cabin</th>\n",
       "      <th>Embarked</th>\n",
       "    </tr>\n",
       "  </thead>\n",
       "  <tbody>\n",
       "    <tr>\n",
       "      <th>0</th>\n",
       "      <td>1</td>\n",
       "      <td>0</td>\n",
       "      <td>3</td>\n",
       "      <td>Braund, Mr. Owen Harris</td>\n",
       "      <td>male</td>\n",
       "      <td>22.0</td>\n",
       "      <td>1</td>\n",
       "      <td>0</td>\n",
       "      <td>A/5 21171</td>\n",
       "      <td>7.2500</td>\n",
       "      <td>NaN</td>\n",
       "      <td>S</td>\n",
       "    </tr>\n",
       "    <tr>\n",
       "      <th>1</th>\n",
       "      <td>2</td>\n",
       "      <td>1</td>\n",
       "      <td>1</td>\n",
       "      <td>Cumings, Mrs. John Bradley (Florence Briggs Th...</td>\n",
       "      <td>female</td>\n",
       "      <td>38.0</td>\n",
       "      <td>1</td>\n",
       "      <td>0</td>\n",
       "      <td>PC 17599</td>\n",
       "      <td>71.2833</td>\n",
       "      <td>C85</td>\n",
       "      <td>C</td>\n",
       "    </tr>\n",
       "    <tr>\n",
       "      <th>2</th>\n",
       "      <td>3</td>\n",
       "      <td>1</td>\n",
       "      <td>3</td>\n",
       "      <td>Heikkinen, Miss. Laina</td>\n",
       "      <td>female</td>\n",
       "      <td>26.0</td>\n",
       "      <td>0</td>\n",
       "      <td>0</td>\n",
       "      <td>STON/O2. 3101282</td>\n",
       "      <td>7.9250</td>\n",
       "      <td>NaN</td>\n",
       "      <td>S</td>\n",
       "    </tr>\n",
       "    <tr>\n",
       "      <th>3</th>\n",
       "      <td>4</td>\n",
       "      <td>1</td>\n",
       "      <td>1</td>\n",
       "      <td>Futrelle, Mrs. Jacques Heath (Lily May Peel)</td>\n",
       "      <td>female</td>\n",
       "      <td>35.0</td>\n",
       "      <td>1</td>\n",
       "      <td>0</td>\n",
       "      <td>113803</td>\n",
       "      <td>53.1000</td>\n",
       "      <td>C123</td>\n",
       "      <td>S</td>\n",
       "    </tr>\n",
       "    <tr>\n",
       "      <th>4</th>\n",
       "      <td>5</td>\n",
       "      <td>0</td>\n",
       "      <td>3</td>\n",
       "      <td>Allen, Mr. William Henry</td>\n",
       "      <td>male</td>\n",
       "      <td>35.0</td>\n",
       "      <td>0</td>\n",
       "      <td>0</td>\n",
       "      <td>373450</td>\n",
       "      <td>8.0500</td>\n",
       "      <td>NaN</td>\n",
       "      <td>S</td>\n",
       "    </tr>\n",
       "  </tbody>\n",
       "</table>\n",
       "</div>"
      ],
      "text/plain": [
       "   PassengerId  Survived  Pclass  \\\n",
       "0            1         0       3   \n",
       "1            2         1       1   \n",
       "2            3         1       3   \n",
       "3            4         1       1   \n",
       "4            5         0       3   \n",
       "\n",
       "                                                Name     Sex   Age  SibSp  \\\n",
       "0                            Braund, Mr. Owen Harris    male  22.0      1   \n",
       "1  Cumings, Mrs. John Bradley (Florence Briggs Th...  female  38.0      1   \n",
       "2                             Heikkinen, Miss. Laina  female  26.0      0   \n",
       "3       Futrelle, Mrs. Jacques Heath (Lily May Peel)  female  35.0      1   \n",
       "4                           Allen, Mr. William Henry    male  35.0      0   \n",
       "\n",
       "   Parch            Ticket     Fare Cabin Embarked  \n",
       "0      0         A/5 21171   7.2500   NaN        S  \n",
       "1      0          PC 17599  71.2833   C85        C  \n",
       "2      0  STON/O2. 3101282   7.9250   NaN        S  \n",
       "3      0            113803  53.1000  C123        S  \n",
       "4      0            373450   8.0500   NaN        S  "
      ]
     },
     "execution_count": 4,
     "metadata": {},
     "output_type": "execute_result"
    }
   ],
   "source": [
    "# Some initial data inspection\n",
    "titanic.head()"
   ]
  },
  {
   "cell_type": "code",
   "execution_count": 5,
   "metadata": {},
   "outputs": [
    {
     "name": "stdout",
     "output_type": "stream",
     "text": [
      "<class 'pandas.core.frame.DataFrame'>\n",
      "RangeIndex: 891 entries, 0 to 890\n",
      "Data columns (total 12 columns):\n",
      "PassengerId    891 non-null int64\n",
      "Survived       891 non-null int64\n",
      "Pclass         891 non-null int64\n",
      "Name           891 non-null object\n",
      "Sex            891 non-null object\n",
      "Age            714 non-null float64\n",
      "SibSp          891 non-null int64\n",
      "Parch          891 non-null int64\n",
      "Ticket         891 non-null object\n",
      "Fare           891 non-null float64\n",
      "Cabin          204 non-null object\n",
      "Embarked       889 non-null object\n",
      "dtypes: float64(2), int64(5), object(5)\n",
      "memory usage: 83.6+ KB\n"
     ]
    }
   ],
   "source": [
    "titanic.info()"
   ]
  },
  {
   "cell_type": "code",
   "execution_count": 6,
   "metadata": {},
   "outputs": [
    {
     "data": {
      "text/html": [
       "<div>\n",
       "<style>\n",
       "    .dataframe thead tr:only-child th {\n",
       "        text-align: right;\n",
       "    }\n",
       "\n",
       "    .dataframe thead th {\n",
       "        text-align: left;\n",
       "    }\n",
       "\n",
       "    .dataframe tbody tr th {\n",
       "        vertical-align: top;\n",
       "    }\n",
       "</style>\n",
       "<table border=\"1\" class=\"dataframe\">\n",
       "  <thead>\n",
       "    <tr style=\"text-align: right;\">\n",
       "      <th></th>\n",
       "      <th>PassengerId</th>\n",
       "      <th>Survived</th>\n",
       "      <th>Pclass</th>\n",
       "      <th>Age</th>\n",
       "      <th>SibSp</th>\n",
       "      <th>Parch</th>\n",
       "      <th>Fare</th>\n",
       "    </tr>\n",
       "  </thead>\n",
       "  <tbody>\n",
       "    <tr>\n",
       "      <th>count</th>\n",
       "      <td>891.000000</td>\n",
       "      <td>891.000000</td>\n",
       "      <td>891.000000</td>\n",
       "      <td>714.000000</td>\n",
       "      <td>891.000000</td>\n",
       "      <td>891.000000</td>\n",
       "      <td>891.000000</td>\n",
       "    </tr>\n",
       "    <tr>\n",
       "      <th>mean</th>\n",
       "      <td>446.000000</td>\n",
       "      <td>0.383838</td>\n",
       "      <td>2.308642</td>\n",
       "      <td>29.699118</td>\n",
       "      <td>0.523008</td>\n",
       "      <td>0.381594</td>\n",
       "      <td>32.204208</td>\n",
       "    </tr>\n",
       "    <tr>\n",
       "      <th>std</th>\n",
       "      <td>257.353842</td>\n",
       "      <td>0.486592</td>\n",
       "      <td>0.836071</td>\n",
       "      <td>14.526497</td>\n",
       "      <td>1.102743</td>\n",
       "      <td>0.806057</td>\n",
       "      <td>49.693429</td>\n",
       "    </tr>\n",
       "    <tr>\n",
       "      <th>min</th>\n",
       "      <td>1.000000</td>\n",
       "      <td>0.000000</td>\n",
       "      <td>1.000000</td>\n",
       "      <td>0.420000</td>\n",
       "      <td>0.000000</td>\n",
       "      <td>0.000000</td>\n",
       "      <td>0.000000</td>\n",
       "    </tr>\n",
       "    <tr>\n",
       "      <th>25%</th>\n",
       "      <td>223.500000</td>\n",
       "      <td>0.000000</td>\n",
       "      <td>2.000000</td>\n",
       "      <td>20.125000</td>\n",
       "      <td>0.000000</td>\n",
       "      <td>0.000000</td>\n",
       "      <td>7.910400</td>\n",
       "    </tr>\n",
       "    <tr>\n",
       "      <th>50%</th>\n",
       "      <td>446.000000</td>\n",
       "      <td>0.000000</td>\n",
       "      <td>3.000000</td>\n",
       "      <td>28.000000</td>\n",
       "      <td>0.000000</td>\n",
       "      <td>0.000000</td>\n",
       "      <td>14.454200</td>\n",
       "    </tr>\n",
       "    <tr>\n",
       "      <th>75%</th>\n",
       "      <td>668.500000</td>\n",
       "      <td>1.000000</td>\n",
       "      <td>3.000000</td>\n",
       "      <td>38.000000</td>\n",
       "      <td>1.000000</td>\n",
       "      <td>0.000000</td>\n",
       "      <td>31.000000</td>\n",
       "    </tr>\n",
       "    <tr>\n",
       "      <th>max</th>\n",
       "      <td>891.000000</td>\n",
       "      <td>1.000000</td>\n",
       "      <td>3.000000</td>\n",
       "      <td>80.000000</td>\n",
       "      <td>8.000000</td>\n",
       "      <td>6.000000</td>\n",
       "      <td>512.329200</td>\n",
       "    </tr>\n",
       "  </tbody>\n",
       "</table>\n",
       "</div>"
      ],
      "text/plain": [
       "       PassengerId    Survived      Pclass         Age       SibSp  \\\n",
       "count   891.000000  891.000000  891.000000  714.000000  891.000000   \n",
       "mean    446.000000    0.383838    2.308642   29.699118    0.523008   \n",
       "std     257.353842    0.486592    0.836071   14.526497    1.102743   \n",
       "min       1.000000    0.000000    1.000000    0.420000    0.000000   \n",
       "25%     223.500000    0.000000    2.000000   20.125000    0.000000   \n",
       "50%     446.000000    0.000000    3.000000   28.000000    0.000000   \n",
       "75%     668.500000    1.000000    3.000000   38.000000    1.000000   \n",
       "max     891.000000    1.000000    3.000000   80.000000    8.000000   \n",
       "\n",
       "            Parch        Fare  \n",
       "count  891.000000  891.000000  \n",
       "mean     0.381594   32.204208  \n",
       "std      0.806057   49.693429  \n",
       "min      0.000000    0.000000  \n",
       "25%      0.000000    7.910400  \n",
       "50%      0.000000   14.454200  \n",
       "75%      0.000000   31.000000  \n",
       "max      6.000000  512.329200  "
      ]
     },
     "execution_count": 6,
     "metadata": {},
     "output_type": "execute_result"
    }
   ],
   "source": [
    "titanic.describe()"
   ]
  },
  {
   "cell_type": "markdown",
   "metadata": {},
   "source": [
    "## 2. EDA"
   ]
  },
  {
   "cell_type": "markdown",
   "metadata": {},
   "source": [
    "These initial inspections shed some light on why the Titanic dataset is such a good one for a first-pass attempt at data science. The dataset is a small one (just 12 variables and less than 1,000 observations total), which means exploratory data analysis is quick, and training models takes very little time, so it's very easy to get results and iterate based on what you learn, as you go. I'll note here, considering the concatenation I mentioned above, that in order to view things relative to survival, exploratory analysis is with respect to only the training data, while cleaning and pre-processing is with respect to the full-sample stacked dataset."
   ]
  },
  {
   "cell_type": "code",
   "execution_count": 7,
   "metadata": {},
   "outputs": [
    {
     "data": {
      "image/png": "[encoded data removed]",
      "text/plain": [
       "<matplotlib.figure.Figure at 0x281e2ddfef0>"
      ]
     },
     "metadata": {},
     "output_type": "display_data"
    }
   ],
   "source": [
    "# Visualization for missing data\n",
    "sns.heatmap(titanic.isnull(),yticklabels=False,cbar=False,cmap='viridis')\n",
    "plt.show()"
   ]
  },
  {
   "cell_type": "markdown",
   "metadata": {},
   "source": [
    "This is a quick, informative way to visualize the incidence of missing observations in our data. Note that, despite how clean this is in our current analysis, when the number of features gets too high, this becomes decidedly less informative. For now, however, we can quickly see that the 'Cabin' feature is going to be essentially useless, and we're going to have to do a bit of work to clean up the 'Age' features (and, to a lesser extent, the 'Embarked' feature). "
   ]
  },
  {
   "cell_type": "code",
   "execution_count": 8,
   "metadata": {},
   "outputs": [
    {
     "data": {
      "image/png": "[encoded data removed]",
      "text/plain": [
       "<matplotlib.figure.Figure at 0x281ee6f14a8>"
      ]
     },
     "metadata": {},
     "output_type": "display_data"
    }
   ],
   "source": [
    "# Visualizing the target variable\n",
    "sns.countplot('Survived', data=titanic, palette='viridis')\n",
    "plt.show()"
   ]
  },
  {
   "cell_type": "markdown",
   "metadata": {},
   "source": [
    "A quick countplot of the target shows that we're working with relatively balanced classes, which means we don't have to address the issues that arise with highly imbalanced classes (i.e. down-sampling, more non-traditional evaluation metrics, etc.)."
   ]
  },
  {
   "cell_type": "code",
   "execution_count": 9,
   "metadata": {},
   "outputs": [
    {
     "data": {
      "image/png": "[encoded data removed]",
      "text/plain": [
       "<matplotlib.figure.Figure at 0x281ee725a58>"
      ]
     },
     "metadata": {},
     "output_type": "display_data"
    }
   ],
   "source": [
    "# Survival by class\n",
    "sns.countplot(x='Survived', hue='Pclass', data=titanic, palette='viridis')\n",
    "plt.show()"
   ]
  },
  {
   "cell_type": "markdown",
   "metadata": {},
   "source": [
    "When evaluating our feature variables, we're looking for those that can best separate along our target. Naturally, if we have some target variable in our dataset that can perfectly predict our target, we're essentially done. So, the more separability we can tease out here the better. Looking at the class variable, odds of survival are not good for those in 3rd class. Moreover, it appears odds of survival are somewhat higher for those in 1st class."
   ]
  },
  {
   "cell_type": "code",
   "execution_count": 10,
   "metadata": {},
   "outputs": [
    {
     "data": {
      "image/png": "[encoded data removed]",
      "text/plain": [
       "<matplotlib.figure.Figure at 0x281ee8aee48>"
      ]
     },
     "metadata": {},
     "output_type": "display_data"
    }
   ],
   "source": [
    "sns.countplot(x='Survived',hue='Sex',data=titanic, palette='viridis')\n",
    "plt.show()"
   ]
  },
  {
   "cell_type": "markdown",
   "metadata": {},
   "source": [
    "Here again, there's a fair amount of separability along the 'Sex' variable - females clearly have a much higher chance of surviving than males. This supports narrative accounts of the Titanic disaster that women and children were given priority for lifeboats"
   ]
  },
  {
   "cell_type": "markdown",
   "metadata": {},
   "source": [
    "### Some simple distributions of the more continuous variables"
   ]
  },
  {
   "cell_type": "code",
   "execution_count": 11,
   "metadata": {},
   "outputs": [
    {
     "data": {
      "image/png": "[encoded data removed]",
      "text/plain": [
       "<matplotlib.figure.Figure at 0x281ee9aac88>"
      ]
     },
     "metadata": {},
     "output_type": "display_data"
    }
   ],
   "source": [
    "sns.distplot(titanic['Age'].dropna(), bins=30, color='darkblue', kde=False, hist_kws=dict(edgecolor='black', linewidth=0.5))\n",
    "plt.show()"
   ]
  },
  {
   "cell_type": "code",
   "execution_count": 12,
   "metadata": {},
   "outputs": [
    {
     "data": {
      "image/png": "[encoded data removed]",
      "text/plain": [
       "<matplotlib.figure.Figure at 0x281ee9f0630>"
      ]
     },
     "metadata": {},
     "output_type": "display_data"
    }
   ],
   "source": [
    "# Possible an outlier at ~500 - may be worth removing\n",
    "sns.distplot(titanic['Fare'].dropna(), bins=30, color='darkblue', kde=False, hist_kws=dict(edgecolor='black', linewidth=0.5))\n",
    "plt.show()"
   ]
  },
  {
   "cell_type": "code",
   "execution_count": 13,
   "metadata": {},
   "outputs": [
    {
     "data": {
      "image/png": "[encoded data removed]",
      "text/plain": [
       "<matplotlib.figure.Figure at 0x281ec62a668>"
      ]
     },
     "metadata": {},
     "output_type": "display_data"
    }
   ],
   "source": [
    "# Clearly an outlier at 8 - may be worth removing\n",
    "sns.distplot(titanic['SibSp'], bins=30, color='darkblue', kde=False, hist_kws=dict(edgecolor='black', linewidth=0.5))\n",
    "plt.show()"
   ]
  },
  {
   "cell_type": "markdown",
   "metadata": {},
   "source": [
    "I'll attend to the outliers mentioned in the previous plots further along in the notebook - some kernels choose to remove these, but I'm inclined to believe they provide additional predictive power."
   ]
  },
  {
   "cell_type": "markdown",
   "metadata": {},
   "source": [
    "## 3. Feature engineering/data cleaning"
   ]
  },
  {
   "cell_type": "markdown",
   "metadata": {},
   "source": [
    "Moving forward, I begin conducting my EDA alongside feature engineering/data cleaning. Visualizing the choices made in feature engineering provides firmer justification for the choices made, and is usually done in the context of how the data look for each of these features. \n",
    "\n",
    "Broadly speaking, my feature engineering and data cleaning addresses a few key things manifested in this dataset, some of which was gleaned from trial-and-error, iterating on this analysis several times:\n",
    "\n",
    "1. In order to ensure we are working with the largest sample possible, and since most of machine-learning models I employ here cannot handle missing values, correct for missing values by imputing values constructed from the underlying feature variable, with the help of information contained in others;\n",
    "2. Converting the continuous variables (i.e. 'Age', 'Fare', 'SibSp', and 'Parch') into quantile-based, discrete variants. These binned variants perform better than including their more continous counterparts, and make it far easier to visualize the underlying distribution relative to the target 'Survived' variable;\n",
    "3. Engineering some features based on the raw variables provided - for instance, I construct a title variable from the 'Name' variable, and construct a group size variable based on information contained in the 'Ticket' and parent/sibling variables."
   ]
  },
  {
   "cell_type": "code",
   "execution_count": 14,
   "metadata": {
    "collapsed": true
   },
   "outputs": [],
   "source": [
    "# Begin by encoding the 'Pclass' feature as a set of binaries\n",
    "class_dummies = pd.get_dummies(all_data['Pclass'])\n",
    "class_dummies.columns = ['First', 'Second', 'Third']"
   ]
  },
  {
   "cell_type": "markdown",
   "metadata": {},
   "source": [
    "### 3a. Cleaning missing 'Age' values"
   ]
  },
  {
   "cell_type": "code",
   "execution_count": 15,
   "metadata": {},
   "outputs": [
    {
     "data": {
      "image/png": "[encoded data removed]",
      "text/plain": [
       "<matplotlib.figure.Figure at 0x281ee9276d8>"
      ]
     },
     "metadata": {},
     "output_type": "display_data"
    }
   ],
   "source": [
    "sns.boxplot(x='Pclass', y='Age', data=all_data ,palette='viridis')\n",
    "plt.show()"
   ]
  },
  {
   "cell_type": "markdown",
   "metadata": {},
   "source": [
    "In order to capture the full sample, the missing values we noted in 'Age' from the EDA above will have to be dealt with. One could simply impute the mean or median value of the age variable, but the 'Class' variable allows us to do this more carefully. In the boxplot above, note that the mean age differs by class - older individuals are more common in 1st class, while the average age of those in the 3rd class is relatively lower. As such, I'm imputing the mean age, by class, for the missing 'Age' values, especially since the Pclass variable is fully populated"
   ]
  },
  {
   "cell_type": "code",
   "execution_count": 16,
   "metadata": {
    "collapsed": true
   },
   "outputs": [],
   "source": [
    "# Replace NaN age values with the mean values within each class\n",
    "age_by_Pclass = all_data.groupby('Pclass').median()['Age']\n",
    "all_data['Age'] = np.where((all_data['Age'].isnull()) & (all_data['Pclass'] == 1), age_by_Pclass.iloc[0],\n",
    "                  np.where((all_data['Age'].isnull()) & (all_data['Pclass'] == 2), age_by_Pclass.iloc[1],\n",
    "                  np.where((all_data['Age'].isnull()) & (all_data['Pclass'] == 3), age_by_Pclass.iloc[2],\n",
    "                            all_data['Age'])))\n"
   ]
  },
  {
   "cell_type": "code",
   "execution_count": 17,
   "metadata": {},
   "outputs": [
    {
     "data": {
      "image/png": "[encoded data removed]",
      "text/plain": [
       "<matplotlib.figure.Figure at 0x281eea01588>"
      ]
     },
     "metadata": {},
     "output_type": "display_data"
    }
   ],
   "source": [
    "from sklearn.preprocessing import LabelEncoder\n",
    "\n",
    "# Create age buckets\n",
    "all_data['age_buckets'] = pd.qcut(all_data['Age'], 6)\n",
    "\n",
    "label = LabelEncoder()\n",
    "all_data['age_buckets'] = label.fit_transform(all_data['age_buckets'])\n",
    "\n",
    "sns.countplot(all_data['age_buckets'], palette='viridis')\n",
    "plt.show()"
   ]
  },
  {
   "cell_type": "markdown",
   "metadata": {},
   "source": [
    "Working through this analysis, I found that most of the continuous variables (notably: age, fare, and parents/siblings) perform better when fitting the data when they are binned. After imputing the missing values, I cut the age variable into six buckets."
   ]
  },
  {
   "cell_type": "code",
   "execution_count": 18,
   "metadata": {},
   "outputs": [
    {
     "data": {
      "image/png": "[encoded data removed]",
      "text/plain": [
       "<matplotlib.figure.Figure at 0x281ec6276a0>"
      ]
     },
     "metadata": {},
     "output_type": "display_data"
    }
   ],
   "source": [
    "sns.countplot(x='Survived', hue='age_buckets', data=all_data, palette='viridis')\n",
    "plt.show()"
   ]
  },
  {
   "cell_type": "markdown",
   "metadata": {},
   "source": [
    "Here, again, we expect additional predictive power from the binned 'Age' feature - in particular, those in the second age bucket have very low odds of survival"
   ]
  },
  {
   "cell_type": "markdown",
   "metadata": {},
   "source": [
    "### 3b. Create 'Embarked'/'Sex' binaries"
   ]
  },
  {
   "cell_type": "code",
   "execution_count": 19,
   "metadata": {},
   "outputs": [
    {
     "name": "stderr",
     "output_type": "stream",
     "text": [
      "C:\\Users\\Jared\\Anaconda3\\lib\\site-packages\\ipykernel_launcher.py:5: SettingWithCopyWarning: \n",
      "A value is trying to be set on a copy of a slice from a DataFrame\n",
      "\n",
      "See the caveats in the documentation: http://pandas.pydata.org/pandas-docs/stable/indexing.html#indexing-view-versus-copy\n",
      "  \"\"\"\n"
     ]
    }
   ],
   "source": [
    "# Create dummy variables for 'Sex'\n",
    "binary_sex = pd.get_dummies(all_data['Sex'])\n",
    "\n",
    "# Create dummy variables for 'Embarked' - impute 'S' since this is the most common occurence\n",
    "all_data['Embarked'][all_data['Embarked'].isnull()] = 'S'\n",
    "binary_embark = pd.get_dummies(all_data['Embarked'])"
   ]
  },
  {
   "cell_type": "markdown",
   "metadata": {},
   "source": [
    "Recall that there were two missing values in the 'Embarked' variable. Since the incidence of missing values is so little, more exhaustive imputation is likely unnecessary. Here, I populate the missing values with the most common 'Embarked' class."
   ]
  },
  {
   "cell_type": "markdown",
   "metadata": {},
   "source": [
    "### 3c. Create 'Title' feature based on 'Name' variable and corresponding binaries"
   ]
  },
  {
   "cell_type": "code",
   "execution_count": 20,
   "metadata": {},
   "outputs": [
    {
     "data": {
      "text/plain": [
       "1307"
      ]
     },
     "execution_count": 20,
     "metadata": {},
     "output_type": "execute_result"
    }
   ],
   "source": [
    "len(all_data.Name.unique())"
   ]
  },
  {
   "cell_type": "code",
   "execution_count": 21,
   "metadata": {},
   "outputs": [
    {
     "data": {
      "text/plain": [
       "array(['Cumings, Mrs. John Bradley (Florence Briggs Thayer)',\n",
       "       'Heikkinen, Miss. Laina',\n",
       "       'Futrelle, Mrs. Jacques Heath (Lily May Peel)',\n",
       "       'Allen, Mr. William Henry'], dtype=object)"
      ]
     },
     "execution_count": 21,
     "metadata": {},
     "output_type": "execute_result"
    }
   ],
   "source": [
    "all_data.Name.unique()[1:5]"
   ]
  },
  {
   "cell_type": "markdown",
   "metadata": {},
   "source": [
    "The 'Name' variable requires a bit more engineering to be a useful predictive features. At present, it represents something of an individual fixed-effect (there's my econometrics training creeping in) that uniquely identifies each individual with their own name and title. However, we observe that there is a common structure in the way these names are entered in the dataset. As such, I extract the title portion of these names for use in my model."
   ]
  },
  {
   "cell_type": "code",
   "execution_count": 22,
   "metadata": {
    "collapsed": true
   },
   "outputs": [],
   "source": [
    "# Create a 'titles' variable based on names that occur in both train and test\n",
    "all_titles = all_data.Name.str.extract('(?P<Title>(?<=, ).*?(?=\\.))', expand=True)"
   ]
  },
  {
   "cell_type": "code",
   "execution_count": 23,
   "metadata": {},
   "outputs": [
    {
     "data": {
      "image/png": "[encoded data removed]",
      "text/plain": [
       "<matplotlib.figure.Figure at 0x281eec20940>"
      ]
     },
     "metadata": {},
     "output_type": "display_data"
    }
   ],
   "source": [
    "# Visualize the occur of these titles and the quantity\n",
    "plt.figure(figsize=(18,4))\n",
    "sns.countplot(x=all_titles['Title'].tolist(), palette='viridis')\n",
    "plt.show()"
   ]
  },
  {
   "cell_type": "markdown",
   "metadata": {},
   "source": [
    "By extracting these titles, we whittle down the number of unique names (1,307) to 17 unique titles, which can be furthered honed by grouping synonymous titles into fewer buckets."
   ]
  },
  {
   "cell_type": "code",
   "execution_count": 24,
   "metadata": {
    "collapsed": true
   },
   "outputs": [],
   "source": [
    "# Map titles to create groups, lumping the obscure titles into a single bucket\n",
    "title_map = {'Mr':'Mr', 'Mrs':'Mrs', 'Mme':'Mrs', 'Miss':'Ms', 'Ms':'Ms', 'Mlle':'Ms', \n",
    "             'Master':'Spec', 'Rev':'Spec', 'Dr':'Spec',\n",
    "             'Don':'Rare', 'Major':'Rare', 'Lady':'Rare', 'Sir':'Rare', 'Col':'Rare', 'Capt':'Rare', 'the Countess':'Rare',\n",
    "             'Jonkheer':'Rare', 'Dona':'Rare'}\n",
    "all_data['title_buckets'] = all_titles['Title'].map(title_map)"
   ]
  },
  {
   "cell_type": "code",
   "execution_count": 25,
   "metadata": {},
   "outputs": [
    {
     "data": {
      "image/png": "[encoded data removed]",
      "text/plain": [
       "<matplotlib.figure.Figure at 0x281ee963a58>"
      ]
     },
     "metadata": {},
     "output_type": "display_data"
    }
   ],
   "source": [
    "sns.countplot(x=all_data['title_buckets'].tolist(), palette='viridis')\n",
    "plt.show()"
   ]
  },
  {
   "cell_type": "markdown",
   "metadata": {},
   "source": [
    "I've opted for five unique title buckets in my analysis. 'Mr', 'Mrs', and 'Ms,' are fairly standard choices. The remaining titles, however, I break out into two different buckets - 'Rare' and 'Spec,' or special. In the special category, I've included those individuals who are doctors, reverends, and masters. The remaining titles, which have far fewer observations, are lumped into the 'Rare' bucket. The distribution of these categories, relative to the target, are displayed below. We observe a similar phenomenon related to the 'Sex' feature here."
   ]
  },
  {
   "cell_type": "code",
   "execution_count": 26,
   "metadata": {
    "collapsed": true
   },
   "outputs": [],
   "source": [
    "title_dummies = pd.get_dummies(all_data['title_buckets'])"
   ]
  },
  {
   "cell_type": "code",
   "execution_count": 27,
   "metadata": {},
   "outputs": [
    {
     "data": {
      "image/png": "[encoded data removed]",
      "text/plain": [
       "<matplotlib.figure.Figure at 0x281e2ddf8d0>"
      ]
     },
     "metadata": {},
     "output_type": "display_data"
    }
   ],
   "source": [
    "# Visualize these relative to survival\n",
    "sns.countplot(x='Survived', hue='title_buckets', data=all_data, palette='viridis')\n",
    "plt.show()"
   ]
  },
  {
   "cell_type": "markdown",
   "metadata": {},
   "source": [
    "### 3d. Create a fare buckets feature"
   ]
  },
  {
   "cell_type": "markdown",
   "metadata": {},
   "source": [
    "I chose to treat the 'fare' feature in much the same way as the 'Age' feature - I attended to missing variables by using median fares by class (it makes sense that the average fare would be much higher for the higher classes) and bucket this accordingly."
   ]
  },
  {
   "cell_type": "code",
   "execution_count": 28,
   "metadata": {},
   "outputs": [
    {
     "data": {
      "image/png": "[encoded data removed]",
      "text/plain": [
       "<matplotlib.figure.Figure at 0x281ee6a7cf8>"
      ]
     },
     "metadata": {},
     "output_type": "display_data"
    }
   ],
   "source": [
    "# Visualize class versus fare\n",
    "plt.figure(figsize=(6,6))\n",
    "sns.boxplot(x='Pclass', y='Fare', data=all_data ,palette='viridis')\n",
    "plt.show()"
   ]
  },
  {
   "cell_type": "code",
   "execution_count": 29,
   "metadata": {
    "collapsed": true
   },
   "outputs": [],
   "source": [
    "fare_by_Pclass = all_data.groupby('Pclass').median()['Fare']\n",
    "\n",
    "\n",
    "all_data['Fare'] = np.where((all_data['Fare'].isnull()) & (all_data['Pclass'] == 1), fare_by_Pclass.iloc[0],\n",
    "              np.where((all_data['Fare'].isnull()) & (all_data['Pclass'] == 2), fare_by_Pclass.iloc[1],\n",
    "              np.where((all_data['Fare'].isnull()) & (all_data['Pclass'] == 3), fare_by_Pclass.iloc[2],\n",
    "              all_data['Fare'])))"
   ]
  },
  {
   "cell_type": "code",
   "execution_count": 30,
   "metadata": {},
   "outputs": [
    {
     "data": {
      "image/png": "[encoded data removed]",
      "text/plain": [
       "<matplotlib.figure.Figure at 0x281eeee44a8>"
      ]
     },
     "metadata": {},
     "output_type": "display_data"
    }
   ],
   "source": [
    "# Create fare buckets\n",
    "all_data['fare_buckets'] = pd.qcut(all_data['Fare'], 5)\n",
    "\n",
    "label = LabelEncoder()\n",
    "all_data['fare_buckets'] = label.fit_transform(all_data['fare_buckets'])\n",
    "\n",
    "sns.countplot(all_data['fare_buckets'], palette='viridis')\n",
    "plt.show()"
   ]
  },
  {
   "cell_type": "code",
   "execution_count": 31,
   "metadata": {},
   "outputs": [
    {
     "data": {
      "image/png": "[encoded data removed]",
      "text/plain": [
       "<matplotlib.figure.Figure at 0x281ec6279b0>"
      ]
     },
     "metadata": {},
     "output_type": "display_data"
    }
   ],
   "source": [
    "# Having paid a high fare clearly has value\n",
    "sns.countplot(x='Survived', hue='fare_buckets', data=all_data, palette='viridis')\n",
    "plt.show()"
   ]
  },
  {
   "cell_type": "markdown",
   "metadata": {},
   "source": [
    "Using these five quantile buckets, we can plainly see that those in the highest fare bucket faired (no pun intended) better than their lower-fare counterparts, which corresponds nicely with what we found in the class variable. "
   ]
  },
  {
   "cell_type": "markdown",
   "metadata": {},
   "source": [
    "### 3e. Create a 'family size' feature and bin accordingly"
   ]
  },
  {
   "cell_type": "markdown",
   "metadata": {},
   "source": [
    "You'll notice a trend here- that is converting the continous variables into discretized variants. I chose to combine the 'SibSp' (the number of siblings/spouses on board) and 'Parch' (the number of parents and children on board) into a single 'Family Size' variable reflecting the entire size of a family on board, and adding one for the individual to whom these features are with respect to"
   ]
  },
  {
   "cell_type": "code",
   "execution_count": 32,
   "metadata": {},
   "outputs": [
    {
     "data": {
      "image/png": "[encoded data removed]",
      "text/plain": [
       "<matplotlib.figure.Figure at 0x281eee3ff60>"
      ]
     },
     "metadata": {},
     "output_type": "display_data"
    }
   ],
   "source": [
    "# Parents and children plus siblings/spouses - large families do not fare very well\n",
    "all_data['Size'] = all_data['SibSp'] + all_data['Parch'] + 1\n",
    "all_data['Alone'] = np.where(all_data['Size'] == 1, 1, 0)\n",
    "sns.countplot(x='Survived', hue='Size', data=all_data, palette='viridis')\n",
    "plt.show()"
   ]
  },
  {
   "cell_type": "code",
   "execution_count": 33,
   "metadata": {},
   "outputs": [
    {
     "data": {
      "image/png": "[encoded data removed]",
      "text/plain": [
       "<matplotlib.figure.Figure at 0x281ee9324a8>"
      ]
     },
     "metadata": {},
     "output_type": "display_data"
    }
   ],
   "source": [
    "# Create Size buckets\n",
    "all_data['fam_buckets'] = np.where(all_data['Size'] == 1, 1,\n",
    "              ##np.where(all_data['Size'] == 2, 2, \n",
    "              np.where((all_data['Size'] >= 2) & (all_data['Size'] <= 4),2, \n",
    "              np.where((all_data['Size'] >= 5) & (all_data['Size'] < 8),3,4)))\n",
    "\n",
    "sns.countplot(all_data['fam_buckets'], palette='viridis')\n",
    "plt.show()"
   ]
  },
  {
   "cell_type": "code",
   "execution_count": 34,
   "metadata": {},
   "outputs": [
    {
     "data": {
      "image/png": "[encoded data removed]",
      "text/plain": [
       "<matplotlib.figure.Figure at 0x281eeaa0eb8>"
      ]
     },
     "metadata": {},
     "output_type": "display_data"
    }
   ],
   "source": [
    "# Large families are separable - big families don't make it, or very rarely make it, and your chances are better in the 2-4 range\n",
    "sns.countplot(x='Survived', hue='fam_buckets', data=all_data, palette='viridis')\n",
    "plt.show()"
   ]
  },
  {
   "cell_type": "markdown",
   "metadata": {},
   "source": [
    "Per my mention of *not* removing some of the outliers above, there's a fairly clear distinction in the survival rate by family size. Simply put- larger families survive at a much lower rate. Moreover, *very* large families simply do not survive in our training dataset."
   ]
  },
  {
   "cell_type": "markdown",
   "metadata": {},
   "source": [
    "### 3f. Identify family/friend groups"
   ]
  },
  {
   "cell_type": "markdown",
   "metadata": {},
   "source": [
    "Pursuing this vein of feature engineering was insipired by this [kernel](https://www.kaggle.com/pliptor/divide-and-conquer-0-82296). While I did not go to the same lengths to develop this feature as in the linked notebook above, I did choose to examine to what extent these groups could be identified in a relatively simpler way, and developed a groups feature that could be bucketed much like the other continuous features established herein."
   ]
  },
  {
   "cell_type": "code",
   "execution_count": 35,
   "metadata": {},
   "outputs": [
    {
     "name": "stdout",
     "output_type": "stream",
     "text": [
      "Number of unique surnames in sample: 875\n",
      "Number of unique tickets in sample: 929\n"
     ]
    }
   ],
   "source": [
    "# Extract last names\n",
    "all_data['fam_name'] = all_data.Name.str.extract('(?P<Title>.*?(?=,))', expand=False)\n",
    "print('Number of unique surnames in sample: {}'.format(len(all_data['fam_name'].unique())))\n",
    "print('Number of unique tickets in sample: {}'.format(len(all_data['Ticket'].unique())))"
   ]
  },
  {
   "cell_type": "code",
   "execution_count": 36,
   "metadata": {},
   "outputs": [
    {
     "data": {
      "text/plain": [
       "CA. 2343        11\n",
       "1601             8\n",
       "CA 2144          8\n",
       "347077           7\n",
       "347082           7\n",
       "3101295          7\n",
       "S.O.C. 14879     7\n",
       "PC 17608         7\n",
       "347088           6\n",
       "382652           6\n",
       "Name: Ticket, dtype: int64"
      ]
     },
     "execution_count": 36,
     "metadata": {},
     "output_type": "execute_result"
    }
   ],
   "source": [
    "# It's fair to assume most of the variation in last names is captured above in the fam_buckets variable, but \n",
    "# tickets might capture those that booked together who are not necessarily related\n",
    "all_data['Ticket'].value_counts()[0:10]"
   ]
  },
  {
   "cell_type": "code",
   "execution_count": 37,
   "metadata": {},
   "outputs": [
    {
     "data": {
      "text/html": [
       "<div>\n",
       "<style>\n",
       "    .dataframe thead tr:only-child th {\n",
       "        text-align: right;\n",
       "    }\n",
       "\n",
       "    .dataframe thead th {\n",
       "        text-align: left;\n",
       "    }\n",
       "\n",
       "    .dataframe tbody tr th {\n",
       "        vertical-align: top;\n",
       "    }\n",
       "</style>\n",
       "<table border=\"1\" class=\"dataframe\">\n",
       "  <thead>\n",
       "    <tr style=\"text-align: right;\">\n",
       "      <th></th>\n",
       "      <th>Age</th>\n",
       "      <th>Cabin</th>\n",
       "      <th>Embarked</th>\n",
       "      <th>Fare</th>\n",
       "      <th>Name</th>\n",
       "      <th>Parch</th>\n",
       "      <th>PassengerId</th>\n",
       "      <th>Pclass</th>\n",
       "      <th>Sex</th>\n",
       "      <th>SibSp</th>\n",
       "      <th>Survived</th>\n",
       "      <th>Ticket</th>\n",
       "      <th>age_buckets</th>\n",
       "      <th>title_buckets</th>\n",
       "      <th>fare_buckets</th>\n",
       "      <th>Size</th>\n",
       "      <th>Alone</th>\n",
       "      <th>fam_buckets</th>\n",
       "      <th>fam_name</th>\n",
       "    </tr>\n",
       "  </thead>\n",
       "  <tbody>\n",
       "    <tr>\n",
       "      <th>74</th>\n",
       "      <td>32.0</td>\n",
       "      <td>NaN</td>\n",
       "      <td>S</td>\n",
       "      <td>56.4958</td>\n",
       "      <td>Bing, Mr. Lee</td>\n",
       "      <td>0</td>\n",
       "      <td>75</td>\n",
       "      <td>3</td>\n",
       "      <td>male</td>\n",
       "      <td>0</td>\n",
       "      <td>1.0</td>\n",
       "      <td>1601</td>\n",
       "      <td>3</td>\n",
       "      <td>Mr</td>\n",
       "      <td>4</td>\n",
       "      <td>1</td>\n",
       "      <td>1</td>\n",
       "      <td>1</td>\n",
       "      <td>Bing</td>\n",
       "    </tr>\n",
       "    <tr>\n",
       "      <th>169</th>\n",
       "      <td>28.0</td>\n",
       "      <td>NaN</td>\n",
       "      <td>S</td>\n",
       "      <td>56.4958</td>\n",
       "      <td>Ling, Mr. Lee</td>\n",
       "      <td>0</td>\n",
       "      <td>170</td>\n",
       "      <td>3</td>\n",
       "      <td>male</td>\n",
       "      <td>0</td>\n",
       "      <td>0.0</td>\n",
       "      <td>1601</td>\n",
       "      <td>3</td>\n",
       "      <td>Mr</td>\n",
       "      <td>4</td>\n",
       "      <td>1</td>\n",
       "      <td>1</td>\n",
       "      <td>1</td>\n",
       "      <td>Ling</td>\n",
       "    </tr>\n",
       "    <tr>\n",
       "      <th>509</th>\n",
       "      <td>26.0</td>\n",
       "      <td>NaN</td>\n",
       "      <td>S</td>\n",
       "      <td>56.4958</td>\n",
       "      <td>Lang, Mr. Fang</td>\n",
       "      <td>0</td>\n",
       "      <td>510</td>\n",
       "      <td>3</td>\n",
       "      <td>male</td>\n",
       "      <td>0</td>\n",
       "      <td>1.0</td>\n",
       "      <td>1601</td>\n",
       "      <td>2</td>\n",
       "      <td>Mr</td>\n",
       "      <td>4</td>\n",
       "      <td>1</td>\n",
       "      <td>1</td>\n",
       "      <td>1</td>\n",
       "      <td>Lang</td>\n",
       "    </tr>\n",
       "    <tr>\n",
       "      <th>643</th>\n",
       "      <td>24.0</td>\n",
       "      <td>NaN</td>\n",
       "      <td>S</td>\n",
       "      <td>56.4958</td>\n",
       "      <td>Foo, Mr. Choong</td>\n",
       "      <td>0</td>\n",
       "      <td>644</td>\n",
       "      <td>3</td>\n",
       "      <td>male</td>\n",
       "      <td>0</td>\n",
       "      <td>1.0</td>\n",
       "      <td>1601</td>\n",
       "      <td>1</td>\n",
       "      <td>Mr</td>\n",
       "      <td>4</td>\n",
       "      <td>1</td>\n",
       "      <td>1</td>\n",
       "      <td>1</td>\n",
       "      <td>Foo</td>\n",
       "    </tr>\n",
       "    <tr>\n",
       "      <th>692</th>\n",
       "      <td>24.0</td>\n",
       "      <td>NaN</td>\n",
       "      <td>S</td>\n",
       "      <td>56.4958</td>\n",
       "      <td>Lam, Mr. Ali</td>\n",
       "      <td>0</td>\n",
       "      <td>693</td>\n",
       "      <td>3</td>\n",
       "      <td>male</td>\n",
       "      <td>0</td>\n",
       "      <td>1.0</td>\n",
       "      <td>1601</td>\n",
       "      <td>1</td>\n",
       "      <td>Mr</td>\n",
       "      <td>4</td>\n",
       "      <td>1</td>\n",
       "      <td>1</td>\n",
       "      <td>1</td>\n",
       "      <td>Lam</td>\n",
       "    </tr>\n",
       "    <tr>\n",
       "      <th>826</th>\n",
       "      <td>24.0</td>\n",
       "      <td>NaN</td>\n",
       "      <td>S</td>\n",
       "      <td>56.4958</td>\n",
       "      <td>Lam, Mr. Len</td>\n",
       "      <td>0</td>\n",
       "      <td>827</td>\n",
       "      <td>3</td>\n",
       "      <td>male</td>\n",
       "      <td>0</td>\n",
       "      <td>0.0</td>\n",
       "      <td>1601</td>\n",
       "      <td>1</td>\n",
       "      <td>Mr</td>\n",
       "      <td>4</td>\n",
       "      <td>1</td>\n",
       "      <td>1</td>\n",
       "      <td>1</td>\n",
       "      <td>Lam</td>\n",
       "    </tr>\n",
       "    <tr>\n",
       "      <th>838</th>\n",
       "      <td>32.0</td>\n",
       "      <td>NaN</td>\n",
       "      <td>S</td>\n",
       "      <td>56.4958</td>\n",
       "      <td>Chip, Mr. Chang</td>\n",
       "      <td>0</td>\n",
       "      <td>839</td>\n",
       "      <td>3</td>\n",
       "      <td>male</td>\n",
       "      <td>0</td>\n",
       "      <td>1.0</td>\n",
       "      <td>1601</td>\n",
       "      <td>3</td>\n",
       "      <td>Mr</td>\n",
       "      <td>4</td>\n",
       "      <td>1</td>\n",
       "      <td>1</td>\n",
       "      <td>1</td>\n",
       "      <td>Chip</td>\n",
       "    </tr>\n",
       "    <tr>\n",
       "      <th>39</th>\n",
       "      <td>24.0</td>\n",
       "      <td>NaN</td>\n",
       "      <td>S</td>\n",
       "      <td>56.4958</td>\n",
       "      <td>Hee, Mr. Ling</td>\n",
       "      <td>0</td>\n",
       "      <td>931</td>\n",
       "      <td>3</td>\n",
       "      <td>male</td>\n",
       "      <td>0</td>\n",
       "      <td>NaN</td>\n",
       "      <td>1601</td>\n",
       "      <td>1</td>\n",
       "      <td>Mr</td>\n",
       "      <td>4</td>\n",
       "      <td>1</td>\n",
       "      <td>1</td>\n",
       "      <td>1</td>\n",
       "      <td>Hee</td>\n",
       "    </tr>\n",
       "  </tbody>\n",
       "</table>\n",
       "</div>"
      ],
      "text/plain": [
       "      Age Cabin Embarked     Fare             Name  Parch  PassengerId  \\\n",
       "74   32.0   NaN        S  56.4958    Bing, Mr. Lee      0           75   \n",
       "169  28.0   NaN        S  56.4958    Ling, Mr. Lee      0          170   \n",
       "509  26.0   NaN        S  56.4958   Lang, Mr. Fang      0          510   \n",
       "643  24.0   NaN        S  56.4958  Foo, Mr. Choong      0          644   \n",
       "692  24.0   NaN        S  56.4958     Lam, Mr. Ali      0          693   \n",
       "826  24.0   NaN        S  56.4958     Lam, Mr. Len      0          827   \n",
       "838  32.0   NaN        S  56.4958  Chip, Mr. Chang      0          839   \n",
       "39   24.0   NaN        S  56.4958    Hee, Mr. Ling      0          931   \n",
       "\n",
       "     Pclass   Sex  SibSp  Survived Ticket  age_buckets title_buckets  \\\n",
       "74        3  male      0       1.0   1601            3            Mr   \n",
       "169       3  male      0       0.0   1601            3            Mr   \n",
       "509       3  male      0       1.0   1601            2            Mr   \n",
       "643       3  male      0       1.0   1601            1            Mr   \n",
       "692       3  male      0       1.0   1601            1            Mr   \n",
       "826       3  male      0       0.0   1601            1            Mr   \n",
       "838       3  male      0       1.0   1601            3            Mr   \n",
       "39        3  male      0       NaN   1601            1            Mr   \n",
       "\n",
       "     fare_buckets  Size  Alone  fam_buckets fam_name  \n",
       "74              4     1      1            1     Bing  \n",
       "169             4     1      1            1     Ling  \n",
       "509             4     1      1            1     Lang  \n",
       "643             4     1      1            1      Foo  \n",
       "692             4     1      1            1      Lam  \n",
       "826             4     1      1            1      Lam  \n",
       "838             4     1      1            1     Chip  \n",
       "39              4     1      1            1      Hee  "
      ]
     },
     "execution_count": 37,
     "metadata": {},
     "output_type": "execute_result"
    }
   ],
   "source": [
    "# Case and point: This group below is considered 'Alone' but clearly booked together as a group\n",
    "all_data[all_data['Ticket'] == '1601']"
   ]
  },
  {
   "cell_type": "code",
   "execution_count": 38,
   "metadata": {
    "collapsed": true
   },
   "outputs": [],
   "source": [
    "tickets = pd.DataFrame(all_data['Ticket'].value_counts())\n",
    "tickets.reset_index(inplace=True)\n",
    "tickets.columns = ['Ticket', 'Group_size']\n",
    "ticket_map = dict(zip(tickets['Ticket'].tolist(), tickets['Group_size'].tolist()))"
   ]
  },
  {
   "cell_type": "code",
   "execution_count": 39,
   "metadata": {},
   "outputs": [
    {
     "data": {
      "image/png": "[encoded data removed]",
      "text/plain": [
       "<matplotlib.figure.Figure at 0x281ee979f28>"
      ]
     },
     "metadata": {},
     "output_type": "display_data"
    }
   ],
   "source": [
    "all_data['Group_size'] = all_data['Ticket'].map(ticket_map)\n",
    "sns.countplot(x='Survived', hue='Group_size', data=all_data, palette='viridis')\n",
    "plt.show()"
   ]
  },
  {
   "cell_type": "code",
   "execution_count": 40,
   "metadata": {},
   "outputs": [
    {
     "data": {
      "image/png": "[encoded data removed]",
      "text/plain": [
       "<matplotlib.figure.Figure at 0x281eec2a940>"
      ]
     },
     "metadata": {},
     "output_type": "display_data"
    }
   ],
   "source": [
    "# Create Group_size buckets\n",
    "all_data['group_buckets'] = np.where(all_data['Group_size'] == 1, 1,\n",
    "              ##np.where(all_data['Group_size'] == 2, 2, \n",
    "              np.where((all_data['Group_size'] >= 2) & (all_data['Group_size'] <= 4),2, \n",
    "              np.where((all_data['Group_size'] >= 5) & (all_data['Group_size'] <= 8),3,4)))\n",
    "\n",
    "sns.countplot(x='Survived', hue='group_buckets', data=all_data, palette='viridis')\n",
    "plt.show()"
   ]
  },
  {
   "cell_type": "markdown",
   "metadata": {},
   "source": [
    "### 3g. Examine 'Cabin' Feature"
   ]
  },
  {
   "cell_type": "markdown",
   "metadata": {},
   "source": [
    "I still contend that the 'Cabin' feature is largely useless in this analysis, but a number of kernels have attempted to glean predictive power from it. The simplest way to do so is divide the feature into those assigned a cabin, and those not."
   ]
  },
  {
   "cell_type": "code",
   "execution_count": 41,
   "metadata": {},
   "outputs": [
    {
     "name": "stderr",
     "output_type": "stream",
     "text": [
      "C:\\Users\\Jared\\Anaconda3\\lib\\site-packages\\ipykernel_launcher.py:2: SettingWithCopyWarning: \n",
      "A value is trying to be set on a copy of a slice from a DataFrame\n",
      "\n",
      "See the caveats in the documentation: http://pandas.pydata.org/pandas-docs/stable/indexing.html#indexing-view-versus-copy\n",
      "  \n"
     ]
    },
    {
     "data": {
      "image/png": "[encoded data removed]",
      "text/plain": [
       "<matplotlib.figure.Figure at 0x281eed46fd0>"
      ]
     },
     "metadata": {},
     "output_type": "display_data"
    }
   ],
   "source": [
    "# Recode missings and examine distribution\n",
    "all_data['Cabin'][all_data['Cabin'].isnull()] = 'X'\n",
    "all_data['Section'] = all_data.Cabin.str.extract('(?P<Section>([A-z]))', expand=True)['Section']\n",
    "\n",
    "plt.figure(figsize=(18,4))\n",
    "sns.countplot(x='Survived', hue='Section', data=all_data, palette='viridis')\n",
    "plt.show()"
   ]
  },
  {
   "cell_type": "code",
   "execution_count": 42,
   "metadata": {},
   "outputs": [
    {
     "data": {
      "image/png": "[encoded data removed]",
      "text/plain": [
       "<matplotlib.figure.Figure at 0x281eec2a9e8>"
      ]
     },
     "metadata": {},
     "output_type": "display_data"
    }
   ],
   "source": [
    "plt.figure(figsize=(18,4))\n",
    "sns.countplot(x='Pclass', hue='Section', data=all_data, palette='viridis')\n",
    "plt.show()"
   ]
  },
  {
   "cell_type": "code",
   "execution_count": 43,
   "metadata": {
    "collapsed": true
   },
   "outputs": [],
   "source": [
    "section_binaries = pd.get_dummies(all_data['Section'])"
   ]
  },
  {
   "cell_type": "code",
   "execution_count": 44,
   "metadata": {},
   "outputs": [
    {
     "data": {
      "image/png": "[encoded data removed]",
      "text/plain": [
       "<matplotlib.figure.Figure at 0x281eeb66f60>"
      ]
     },
     "metadata": {},
     "output_type": "display_data"
    }
   ],
   "source": [
    "all_data['assigned'] = np.where(all_data['Cabin'] == 'X', 1, 0)\n",
    "sns.countplot(x='Survived', hue='assigned', data=all_data, palette='viridis')\n",
    "plt.show()"
   ]
  },
  {
   "cell_type": "markdown",
   "metadata": {},
   "source": [
    "## 4. Assemble final dataset prior to training"
   ]
  },
  {
   "cell_type": "markdown",
   "metadata": {},
   "source": [
    "Doggedly pursuing higher public scores on the Kaggle leaderboard, led to *many* iterations of the above features, and led to the development of much of the cleaning and engineering detailed above. In the end, I was able to achieve the highest Cross-Validation scores, and highest public scores on the Kaggle website, with a subset of the features described and engineered above. To some extent, this was also determined through my iterations looking a feature importance plots.\n",
    "\n",
    "I used the bucketed 'Fare', 'Family', and 'Age', binary 'Sex' variables, constructed 'Title' feature, and dummy variables built on the 'Class' feature. The 'Embarked' and 'Section' binaries did not improve predictive accuracy. Additionally, despite all the work put into the creation of the 'group_buckets' variable based on groups of individuals purchasing tickets together, I did not find it reliably improved predictive accuracy, with the exception of the LightGBM model, which is why I've left it in here."
   ]
  },
  {
   "cell_type": "code",
   "execution_count": 45,
   "metadata": {},
   "outputs": [
    {
     "name": "stdout",
     "output_type": "stream",
     "text": [
      "<class 'pandas.core.frame.DataFrame'>\n",
      "Int64Index: 1309 entries, 0 to 417\n",
      "Data columns (total 14 columns):\n",
      "fare_buckets     1309 non-null int64\n",
      "fam_buckets      1309 non-null int32\n",
      "age_buckets      1309 non-null int64\n",
      "group_buckets    1309 non-null int32\n",
      "female           1309 non-null uint8\n",
      "male             1309 non-null uint8\n",
      "Mr               1309 non-null uint8\n",
      "Mrs              1309 non-null uint8\n",
      "Ms               1309 non-null uint8\n",
      "Rare             1309 non-null uint8\n",
      "Spec             1309 non-null uint8\n",
      "First            1309 non-null uint8\n",
      "Second           1309 non-null uint8\n",
      "Third            1309 non-null uint8\n",
      "dtypes: int32(2), int64(2), uint8(10)\n",
      "memory usage: 93.7 KB\n"
     ]
    }
   ],
   "source": [
    "# Select features for training\n",
    "feats = pd.concat([all_data[['fare_buckets', 'fam_buckets', 'age_buckets', 'group_buckets']],\n",
    "              binary_sex,\n",
    "              title_dummies,\n",
    "              ## section_binaries,\n",
    "              ## binary_embark,\n",
    "              class_dummies\n",
    "              ], axis=1)\n",
    "\n",
    "feats.info()"
   ]
  },
  {
   "cell_type": "code",
   "execution_count": 46,
   "metadata": {
    "collapsed": true
   },
   "outputs": [],
   "source": [
    "# Since some feature engineering and variable imputation had to be done with respect to the full population, I split the data\n",
    "X_ = feats[:t_obs]\n",
    "test_ = feats[t_obs:]\n",
    "y = titanic['Survived']"
   ]
  },
  {
   "cell_type": "code",
   "execution_count": 47,
   "metadata": {
    "collapsed": true
   },
   "outputs": [],
   "source": [
    "# Scale features prior to estimation\n",
    "from sklearn.preprocessing import StandardScaler\n",
    "scaler = StandardScaler()\n",
    "X_scaled = scaler.fit_transform(X_)\n",
    "X = pd.DataFrame(X_scaled)\n",
    "X.columns  = X_.columns"
   ]
  },
  {
   "cell_type": "markdown",
   "metadata": {},
   "source": [
    "Since I intend to use a wide range of models to assess their predictive power with this selection of features for training, it's good practice to scale all the variables in thte dataset. I rely on the sklearn StandardScalar to perform this scaling."
   ]
  },
  {
   "cell_type": "code",
   "execution_count": 48,
   "metadata": {},
   "outputs": [
    {
     "name": "stdout",
     "output_type": "stream",
     "text": [
      "<class 'pandas.core.frame.DataFrame'>\n",
      "RangeIndex: 891 entries, 0 to 890\n",
      "Data columns (total 14 columns):\n",
      "fare_buckets     891 non-null float64\n",
      "fam_buckets      891 non-null float64\n",
      "age_buckets      891 non-null float64\n",
      "group_buckets    891 non-null float64\n",
      "female           891 non-null float64\n",
      "male             891 non-null float64\n",
      "Mr               891 non-null float64\n",
      "Mrs              891 non-null float64\n",
      "Ms               891 non-null float64\n",
      "Rare             891 non-null float64\n",
      "Spec             891 non-null float64\n",
      "First            891 non-null float64\n",
      "Second           891 non-null float64\n",
      "Third            891 non-null float64\n",
      "dtypes: float64(14)\n",
      "memory usage: 97.5 KB\n"
     ]
    }
   ],
   "source": [
    "X.info()"
   ]
  },
  {
   "cell_type": "code",
   "execution_count": 49,
   "metadata": {},
   "outputs": [
    {
     "data": {
      "image/png": "[encoded data removed]",
      "text/plain": [
       "<matplotlib.figure.Figure at 0x281ee9b1c88>"
      ]
     },
     "metadata": {},
     "output_type": "display_data"
    }
   ],
   "source": [
    "plt.figure(figsize=(10,6))\n",
    "sns.heatmap(X.corr(), cmap='viridis', annot=True)\n",
    "plt.show()"
   ]
  },
  {
   "cell_type": "markdown",
   "metadata": {},
   "source": [
    "## 5. Modelling"
   ]
  },
  {
   "cell_type": "markdown",
   "metadata": {},
   "source": [
    "It's well established that there is no one perfect algorithm for every machine learning problem. With the sklearn library, it's trivial to test a the predictive accuracy of a number of models. In this analysis, I assess the performance of the following 8 classifiers:\n",
    "1. K-Nearest Neighbors\n",
    "2. Logistic Regression\n",
    "3. Decision Tree\n",
    "4. Support Vector Machine\n",
    "5. Random Forest\n",
    "6. AdaBoost\n",
    "7. ExtraTrees\n",
    "8. Gradient-Boosting Machine\n",
    "\n",
    "kNN and Logistic Regression are fairly standard baseline models to assess how well our model is doing absent more complex methods, while the latter four are a mix of ensemble models which are regularly referenced in other kernels assessing this dataset"
   ]
  },
  {
   "cell_type": "code",
   "execution_count": 50,
   "metadata": {
    "collapsed": true
   },
   "outputs": [],
   "source": [
    "# Train-test split\n",
    "from sklearn.model_selection import train_test_split\n",
    "X_train, X_test, y_train, y_test = train_test_split(X, y, test_size=0.33, random_state=101)"
   ]
  },
  {
   "cell_type": "code",
   "execution_count": 51,
   "metadata": {
    "collapsed": true
   },
   "outputs": [],
   "source": [
    "from sklearn.metrics import confusion_matrix, classification_report\n",
    "from sklearn.model_selection import cross_validate\n",
    "model_performance = {}"
   ]
  },
  {
   "cell_type": "markdown",
   "metadata": {},
   "source": [
    "### 5a. kNN"
   ]
  },
  {
   "cell_type": "code",
   "execution_count": 52,
   "metadata": {},
   "outputs": [
    {
     "name": "stdout",
     "output_type": "stream",
     "text": [
      "[[153  16]\n",
      " [ 40  86]]\n",
      "             precision    recall  f1-score   support\n",
      "\n",
      "          0       0.79      0.91      0.85       169\n",
      "          1       0.84      0.68      0.75       126\n",
      "\n",
      "avg / total       0.81      0.81      0.81       295\n",
      "\n"
     ]
    }
   ],
   "source": [
    "from sklearn.neighbors import KNeighborsClassifier\n",
    "knn = KNeighborsClassifier()\n",
    "\n",
    "knn.fit(X_train, y_train)\n",
    "y_pred = knn.predict(X_test)\n",
    "\n",
    "_ = cross_validate(knn, X_train, y_train,cv=5)['test_score']\n",
    "model_performance['k-Nearest Neighbors'] = np.array(_).mean()\n",
    "\n",
    "print(confusion_matrix(y_test, y_pred))\n",
    "print(classification_report(y_test, y_pred))"
   ]
  },
  {
   "cell_type": "markdown",
   "metadata": {},
   "source": [
    "### 5b. Logistic Regression"
   ]
  },
  {
   "cell_type": "code",
   "execution_count": 53,
   "metadata": {},
   "outputs": [
    {
     "name": "stdout",
     "output_type": "stream",
     "text": [
      "[[155  14]\n",
      " [ 40  86]]\n",
      "             precision    recall  f1-score   support\n",
      "\n",
      "          0       0.79      0.92      0.85       169\n",
      "          1       0.86      0.68      0.76       126\n",
      "\n",
      "avg / total       0.82      0.82      0.81       295\n",
      "\n"
     ]
    }
   ],
   "source": [
    "from sklearn.linear_model import LogisticRegression\n",
    "lr = LogisticRegression()\n",
    "\n",
    "lr.fit(X_train, y_train)\n",
    "y_pred = lr.predict(X_test)\n",
    "\n",
    "_ = cross_validate(lr, X_train, y_train,cv=5)['test_score']\n",
    "model_performance['Logistic Regression'] = np.array(_).mean()\n",
    "\n",
    "print(confusion_matrix(y_test, y_pred))\n",
    "print(classification_report(y_test, y_pred))"
   ]
  },
  {
   "cell_type": "markdown",
   "metadata": {},
   "source": [
    "### 5c. Decision Tree"
   ]
  },
  {
   "cell_type": "code",
   "execution_count": 54,
   "metadata": {},
   "outputs": [
    {
     "name": "stdout",
     "output_type": "stream",
     "text": [
      "[[153  16]\n",
      " [ 52  74]]\n",
      "             precision    recall  f1-score   support\n",
      "\n",
      "          0       0.75      0.91      0.82       169\n",
      "          1       0.82      0.59      0.69       126\n",
      "\n",
      "avg / total       0.78      0.77      0.76       295\n",
      "\n"
     ]
    }
   ],
   "source": [
    "from sklearn.tree import DecisionTreeClassifier\n",
    "dtc = DecisionTreeClassifier()\n",
    "\n",
    "dtc.fit(X_train, y_train)\n",
    "y_pred = dtc.predict(X_test)\n",
    "\n",
    "_ = cross_validate(dtc, X_train, y_train,cv=5)['test_score']\n",
    "model_performance['Decision Tree'] = np.array(_).mean()\n",
    "\n",
    "print(confusion_matrix(y_test, y_pred))\n",
    "print(classification_report(y_test, y_pred))"
   ]
  },
  {
   "cell_type": "markdown",
   "metadata": {},
   "source": [
    "### 5d. SVM"
   ]
  },
  {
   "cell_type": "code",
   "execution_count": 55,
   "metadata": {},
   "outputs": [
    {
     "name": "stdout",
     "output_type": "stream",
     "text": [
      "[[155  14]\n",
      " [ 36  90]]\n",
      "             precision    recall  f1-score   support\n",
      "\n",
      "          0       0.81      0.92      0.86       169\n",
      "          1       0.87      0.71      0.78       126\n",
      "\n",
      "avg / total       0.83      0.83      0.83       295\n",
      "\n"
     ]
    }
   ],
   "source": [
    "# Support Vector Machine\n",
    "from sklearn.svm import SVC\n",
    "svc = SVC()\n",
    "\n",
    "svc.fit(X_train, y_train)\n",
    "y_pred = svc.predict(X_test)\n",
    "\n",
    "_ = cross_validate(svc, X_train, y_train,cv=5)['test_score']\n",
    "model_performance['Support Vector Machine'] = np.array(_).mean()\n",
    "\n",
    "print(confusion_matrix(y_test, y_pred))\n",
    "print(classification_report(y_test, y_pred))"
   ]
  },
  {
   "cell_type": "markdown",
   "metadata": {},
   "source": [
    "### 5e. RandomForest"
   ]
  },
  {
   "cell_type": "code",
   "execution_count": 56,
   "metadata": {},
   "outputs": [
    {
     "name": "stdout",
     "output_type": "stream",
     "text": [
      "[[151  18]\n",
      " [ 37  89]]\n",
      "             precision    recall  f1-score   support\n",
      "\n",
      "          0       0.80      0.89      0.85       169\n",
      "          1       0.83      0.71      0.76       126\n",
      "\n",
      "avg / total       0.82      0.81      0.81       295\n",
      "\n"
     ]
    }
   ],
   "source": [
    "# Random Forest\n",
    "from sklearn.ensemble import RandomForestClassifier\n",
    "rfc = RandomForestClassifier()\n",
    "\n",
    "rfc.fit(X_train, y_train)\n",
    "y_pred = rfc.predict(X_test)\n",
    "\n",
    "_ = cross_validate(rfc, X_train, y_train,cv=5)['test_score']\n",
    "model_performance['Random Forest'] = np.array(_).mean()\n",
    "\n",
    "print(confusion_matrix(y_test, y_pred))\n",
    "print(classification_report(y_test, y_pred))"
   ]
  },
  {
   "cell_type": "markdown",
   "metadata": {},
   "source": [
    "### 5f. Adaboost"
   ]
  },
  {
   "cell_type": "code",
   "execution_count": 57,
   "metadata": {},
   "outputs": [
    {
     "name": "stdout",
     "output_type": "stream",
     "text": [
      "[[146  23]\n",
      " [ 36  90]]\n",
      "             precision    recall  f1-score   support\n",
      "\n",
      "          0       0.80      0.86      0.83       169\n",
      "          1       0.80      0.71      0.75       126\n",
      "\n",
      "avg / total       0.80      0.80      0.80       295\n",
      "\n"
     ]
    }
   ],
   "source": [
    "# Adaboost\n",
    "from sklearn.ensemble import AdaBoostClassifier\n",
    "ada = AdaBoostClassifier()\n",
    "\n",
    "ada.fit(X_train, y_train)\n",
    "y_pred = ada.predict(X_test)\n",
    "\n",
    "_ = cross_validate(ada, X_train, y_train,cv=5)['test_score']\n",
    "model_performance['Adaboost'] = np.array(_).mean()\n",
    "\n",
    "print(confusion_matrix(y_test, y_pred))\n",
    "print(classification_report(y_test, y_pred))"
   ]
  },
  {
   "cell_type": "markdown",
   "metadata": {},
   "source": [
    "### 5g. ExtraTrees"
   ]
  },
  {
   "cell_type": "code",
   "execution_count": 58,
   "metadata": {},
   "outputs": [
    {
     "name": "stdout",
     "output_type": "stream",
     "text": [
      "[[152  17]\n",
      " [ 45  81]]\n",
      "             precision    recall  f1-score   support\n",
      "\n",
      "          0       0.77      0.90      0.83       169\n",
      "          1       0.83      0.64      0.72       126\n",
      "\n",
      "avg / total       0.80      0.79      0.78       295\n",
      "\n"
     ]
    }
   ],
   "source": [
    "# ExtraTrees\n",
    "from sklearn.ensemble import ExtraTreesClassifier\n",
    "xtc = ExtraTreesClassifier()\n",
    "\n",
    "xtc.fit(X_train, y_train)\n",
    "y_pred = xtc.predict(X_test)\n",
    "\n",
    "_ = cross_validate(xtc, X_train, y_train,cv=5)['test_score']\n",
    "model_performance['ExtraTrees'] = np.array(_).mean()\n",
    "\n",
    "print(confusion_matrix(y_test, y_pred))\n",
    "print(classification_report(y_test, y_pred))"
   ]
  },
  {
   "cell_type": "markdown",
   "metadata": {},
   "source": [
    "### 5h. Gradient-Boosted Decision Tree"
   ]
  },
  {
   "cell_type": "code",
   "execution_count": 59,
   "metadata": {},
   "outputs": [
    {
     "name": "stdout",
     "output_type": "stream",
     "text": [
      "[[150  19]\n",
      " [ 33  93]]\n",
      "             precision    recall  f1-score   support\n",
      "\n",
      "          0       0.82      0.89      0.85       169\n",
      "          1       0.83      0.74      0.78       126\n",
      "\n",
      "avg / total       0.82      0.82      0.82       295\n",
      "\n"
     ]
    }
   ],
   "source": [
    "# Gradient-Boosted Decision Tree\n",
    "from sklearn.ensemble import GradientBoostingClassifier\n",
    "gbc = GradientBoostingClassifier()\n",
    "gbc.fit(X_train, y_train)\n",
    "y_pred = gbc.predict(X_test)\n",
    "\n",
    "_ = cross_validate(gbc, X_train, y_train,cv=5)['test_score']\n",
    "model_performance['Gradient-Boosting Classifier'] = np.array(_).mean()\n",
    "\n",
    "print(confusion_matrix(y_test, y_pred))\n",
    "print(classification_report(y_test, y_pred))"
   ]
  },
  {
   "cell_type": "markdown",
   "metadata": {},
   "source": [
    "### 5i. Variable Importance and Comparison of Mean Accuracy"
   ]
  },
  {
   "cell_type": "code",
   "execution_count": 60,
   "metadata": {},
   "outputs": [
    {
     "data": {
      "image/png": "[encoded data removed]",
      "text/plain": [
       "<matplotlib.figure.Figure at 0x281ef0a3ba8>"
      ]
     },
     "metadata": {},
     "output_type": "display_data"
    }
   ],
   "source": [
    "_ = sorted([x for x in model_performance.items()], key=lambda x: x[1])\n",
    "\n",
    "fig, ax = plt.subplots(figsize=(10,6))\n",
    "ax.barh(np.arange(len(_)), [x[1] for x in _])\n",
    "\n",
    "ax.set_yticks(np.arange(len(_)))\n",
    "ax.set_yticklabels([x[0] for x in _])\n",
    "ax.set_xlabel('Mean Accuracy')\n",
    "ax.set_title('Mean CV Accuracy, 5-fold CV')\n",
    "\n",
    "plt.show()"
   ]
  },
  {
   "cell_type": "code",
   "execution_count": 61,
   "metadata": {},
   "outputs": [
    {
     "data": {
      "image/png": "[encoded data removed]",
      "text/plain": [
       "<matplotlib.figure.Figure at 0x281ef2ed390>"
      ]
     },
     "metadata": {},
     "output_type": "display_data"
    }
   ],
   "source": [
    "_ = sorted(list(zip(X_train.columns.tolist(), gbc.feature_importances_.tolist())), key=lambda x:x[1])\n",
    "\n",
    "fig, ax = plt.subplots(figsize=(10,6))\n",
    "ax.barh(np.arange(len(_)), [x[1] for x in _])\n",
    "\n",
    "ax.set_yticks(np.arange(len(_)))\n",
    "ax.set_yticklabels([x[0] for x in _])\n",
    "ax.set_xlabel('Contribution')\n",
    "ax.set_title('Variable Importance from GBC Estimation')\n",
    "\n",
    "plt.show()"
   ]
  },
  {
   "cell_type": "markdown",
   "metadata": {},
   "source": [
    "## 6. Parameter Tuning and Model Selection"
   ]
  },
  {
   "cell_type": "code",
   "execution_count": 62,
   "metadata": {},
   "outputs": [
    {
     "name": "stdout",
     "output_type": "stream",
     "text": [
      "{'learning_rate': 0.01, 'max_depth': 3, 'max_features': 'log2', 'n_estimators': 1000}\n"
     ]
    }
   ],
   "source": [
    "from sklearn.model_selection import GridSearchCV\n",
    "\n",
    "# Tune the gbm\n",
    "grid_values = {'n_estimators': [10, 100, 1000],\n",
    "               'learning_rate': [0.001, 0.01, 0.1],\n",
    "               'max_depth': [1,2,3],\n",
    "               'max_features': ['sqrt', 'log2']}\n",
    "\n",
    "gbc_grid = GridSearchCV(gbc, param_grid = grid_values)\n",
    "gbc_grid.fit(X, y)\n",
    "print(gbc_grid.best_params_)"
   ]
  },
  {
   "cell_type": "code",
   "execution_count": 63,
   "metadata": {},
   "outputs": [
    {
     "name": "stdout",
     "output_type": "stream",
     "text": [
      "{'C': 30, 'gamma': 0.01, 'kernel': 'rbf'}\n"
     ]
    }
   ],
   "source": [
    "svc = SVC()\n",
    "\n",
    "# Tune the SVM\n",
    "grid_values = {'C':[1,10,20,30,40,50,60,70,80,90,100],\n",
    "               'gamma':[0.01],\n",
    "               'kernel': ['rbf', 'poly']}\n",
    "\n",
    "svc_grid = GridSearchCV(svc, param_grid = grid_values)\n",
    "svc_grid.fit(X,y)\n",
    "print(svc_grid.best_params_)"
   ]
  },
  {
   "cell_type": "code",
   "execution_count": 64,
   "metadata": {},
   "outputs": [
    {
     "name": "stdout",
     "output_type": "stream",
     "text": [
      "{'max_depth': 4, 'max_features': 'sqrt', 'min_samples_split': 3, 'n_estimators': 5}\n"
     ]
    }
   ],
   "source": [
    "rfc = RandomForestClassifier()\n",
    "\n",
    "# Tune the RandomForest\n",
    "grid_values = {'max_depth':[3,4,5,6,7,8,9,10,11,12],\n",
    "               'max_features':['log2', 'sqrt'],\n",
    "               'n_estimators':[3,4,5,6,7,8,9,10,11,12],\n",
    "               'min_samples_split':[2,3,4]\n",
    "               }\n",
    "\n",
    "rfc_grid = GridSearchCV(rfc, param_grid = grid_values)\n",
    "rfc_grid.fit(X_train, y_train)\n",
    "\n",
    "print(rfc_grid.best_params_)"
   ]
  },
  {
   "cell_type": "markdown",
   "metadata": {},
   "source": [
    "## 7. Fit final model on test data and report predictions"
   ]
  },
  {
   "cell_type": "markdown",
   "metadata": {},
   "source": [
    "While it seems the simple Logistic Regression performs the best in terms of CV Mean Accuracy (per the plot above), I'm inclined to use the Gradient Boosting Machine (which performs second per the same metric) because its hyper-parameters can be more finely tuned. As such, using the tuned hyperparameters established in the grid search above, I conduct a final run of the Gradient Boosting Machine to generate final predictions for submission"
   ]
  },
  {
   "cell_type": "code",
   "execution_count": 66,
   "metadata": {
    "collapsed": true
   },
   "outputs": [],
   "source": [
    "# Scale features prior to estimation\n",
    "test_scaled = scaler.fit_transform(test_)\n",
    "test_feats = pd.DataFrame(test_scaled)"
   ]
  },
  {
   "cell_type": "code",
   "execution_count": 67,
   "metadata": {
    "collapsed": true
   },
   "outputs": [],
   "source": [
    "# Create more usefully named variants of existing feature Dataframes\n",
    "features = X\n",
    "labels = y\n",
    "test_features = test_feats"
   ]
  },
  {
   "cell_type": "code",
   "execution_count": 68,
   "metadata": {
    "collapsed": true
   },
   "outputs": [],
   "source": [
    "# Fit final model\n",
    "clf = GradientBoostingClassifier(learning_rate=0.01, max_depth=3, max_features='log2', n_estimators=1000)\n",
    "clf.fit(X,y)\n",
    "y_pred = clf.predict(test_feats)"
   ]
  },
  {
   "cell_type": "code",
   "execution_count": 69,
   "metadata": {
    "collapsed": true
   },
   "outputs": [],
   "source": [
    "# Prepare data for evaluation\n",
    "final_predictions = pd.DataFrame.from_dict(dict(zip(test['PassengerId'], y_pred)), orient='index')\n",
    "final_predictions.reset_index(inplace=True)\n",
    "final_predictions.columns = ['PassengerId', 'Survived']\n",
    "\n",
    "final_predictions.to_csv('survivor_predictions.csv',index=False)"
   ]
  },
  {
   "cell_type": "markdown",
   "metadata": {},
   "source": [
    "## 8. LightGBM"
   ]
  },
  {
   "cell_type": "markdown",
   "metadata": {},
   "source": [
    "When I began working on this notebook, I was fully aware of the LightGBM model and the degree to which it (along with XGBoost) was being employed in winning kernels, but found working with it to be a bit more difficult. After working for some time on the Home Credit Default Risk competition, I stumbled across and immensely helpful [kernel](https://www.kaggle.com/willkoehrsen/start-here-a-gentle-introduction) for getting this up and running. While I spent less time with hyperparameter tuning in this one, I found that once I got things up and running it immediately improved the scores I was generating both on my cross-validation sets and for my submissions to the competition. This landed my kernel within the top 15%"
   ]
  },
  {
   "cell_type": "code",
   "execution_count": 70,
   "metadata": {
    "collapsed": true
   },
   "outputs": [],
   "source": [
    "# Convert to NumPy arrays - store feature names\n",
    "feature_names = features.columns.tolist()\n",
    "features = np.array(features)\n",
    "test_features = np.array(test_features)"
   ]
  },
  {
   "cell_type": "code",
   "execution_count": 71,
   "metadata": {
    "collapsed": true
   },
   "outputs": [],
   "source": [
    "from sklearn.model_selection import KFold\n",
    "\n",
    "# Create the kfold object\n",
    "k_fold = KFold(n_splits = 5, shuffle = True, random_state = 101)"
   ]
  },
  {
   "cell_type": "code",
   "execution_count": 72,
   "metadata": {
    "collapsed": true
   },
   "outputs": [],
   "source": [
    "# Empty array for feature importances\n",
    "feature_importance_values = np.zeros(len(feature_names))\n",
    "    \n",
    "# Empty array for test predictions\n",
    "test_predictions = np.zeros(test_features.shape[0])\n",
    "    \n",
    "# Empty array for out of fold validation predictions\n",
    "out_of_fold = np.zeros(features.shape[0])\n",
    "    \n",
    "# Lists for recording validation and training scores\n",
    "valid_scores = []\n",
    "train_scores = []"
   ]
  },
  {
   "cell_type": "code",
   "execution_count": 73,
   "metadata": {},
   "outputs": [
    {
     "name": "stdout",
     "output_type": "stream",
     "text": [
      "Training until validation scores don't improve for 100 rounds.\n",
      "[200]\tvalid's auc: 0.894381\ttrain's auc: 0.93134\n",
      "Early stopping, best iteration is:\n",
      "[208]\tvalid's auc: 0.897033\ttrain's auc: 0.931883\n",
      "Training until validation scores don't improve for 100 rounds.\n",
      "Early stopping, best iteration is:\n",
      "[34]\tvalid's auc: 0.897553\ttrain's auc: 0.901965\n",
      "Training until validation scores don't improve for 100 rounds.\n",
      "Early stopping, best iteration is:\n",
      "[92]\tvalid's auc: 0.882068\ttrain's auc: 0.923354\n",
      "Training until validation scores don't improve for 100 rounds.\n",
      "Early stopping, best iteration is:\n",
      "[60]\tvalid's auc: 0.870344\ttrain's auc: 0.916331\n",
      "Training until validation scores don't improve for 100 rounds.\n",
      "Early stopping, best iteration is:\n",
      "[89]\tvalid's auc: 0.880214\ttrain's auc: 0.918925\n"
     ]
    }
   ],
   "source": [
    "import lightgbm as lgb \n",
    "\n",
    "# Iterate through each fold\n",
    "for train_indices, valid_indices in k_fold.split(features):\n",
    "        \n",
    "    # Training data for the fold\n",
    "    train_features, train_labels = features[train_indices], labels[train_indices]\n",
    "    #Validation data for the fold\n",
    "    valid_features, valid_labels = features[valid_indices], labels[valid_indices]\n",
    "    \n",
    "    # Create the bst\n",
    "    bst = lgb.LGBMClassifier(n_estimators=10000, objective = 'binary', \n",
    "                            class_weight = 'balanced', learning_rate = 0.05, \n",
    "                            reg_alpha = 0.1, reg_lambda = 0.1, \n",
    "                            subsample = 0.8, random_state = 101)\n",
    "        \n",
    "    # Train the bst\n",
    "    bst.fit(train_features, train_labels, eval_metric = 'auc',\n",
    "            eval_set = [(valid_features, valid_labels), (train_features, train_labels)],\n",
    "            eval_names = ['valid', 'train'],\n",
    "            early_stopping_rounds = 100, verbose = 200)\n",
    "    \n",
    "    # Record the best iteration\n",
    "    best_iteration = bst.best_iteration_\n",
    "        \n",
    "    # Record the feature importances\n",
    "    feature_importance_values += bst.feature_importances_ / k_fold.n_splits\n",
    "        \n",
    "    # Make predictions\n",
    "    test_predictions += bst.predict_proba(test_features, num_iteration = best_iteration)[:, 1] / k_fold.n_splits\n",
    "        \n",
    "    # Record the out of fold predictions\n",
    "    out_of_fold[valid_indices] = bst.predict_proba(valid_features, num_iteration = best_iteration)[:, 1]\n",
    "        \n",
    "    # Record the best score\n",
    "    valid_score = bst.best_score_['valid']['auc']\n",
    "    train_score = bst.best_score_['train']['auc']\n",
    "        \n",
    "    valid_scores.append(valid_score)\n",
    "    train_scores.append(train_score) "
   ]
  },
  {
   "cell_type": "code",
   "execution_count": 74,
   "metadata": {
    "collapsed": true
   },
   "outputs": [],
   "source": [
    "# Prepare data for evaluation\n",
    "final_predictions = pd.DataFrame({'PassengerId': test['PassengerId'], 'Survived': test_predictions})\n",
    "final_predictions['Survived'] = np.where(final_predictions['Survived'] > 0.7, 1, 0)"
   ]
  },
  {
   "cell_type": "code",
   "execution_count": 75,
   "metadata": {
    "collapsed": true
   },
   "outputs": [],
   "source": [
    "final_predictions.to_csv('survivor_predictions.csv',index=False)"
   ]
  },
  {
   "cell_type": "markdown",
   "metadata": {
    "collapsed": true
   },
   "source": [
    "## 9. Credits"
   ]
  },
  {
   "cell_type": "markdown",
   "metadata": {},
   "source": [
    "I find it hard to believe any auto-didact can really get started in this field in a vacuum. I looked through a LOT of kernels, including the one linked above, and owe a lot of credit to [Jose Portilla's bootcamp](https://www.udemy.com/python-for-data-science-and-machine-learning-bootcamp/learn/v4/) on Udemy for developing my thinking about the structure and first steps to get this off the ground. While this isn't necessarily an endorsement, I found the course to be very helpful in getting a gist of the general workflow for these data science projects."
   ]
  }
 ],
 "metadata": {
  "kernelspec": {
   "display_name": "Python 3",
   "language": "python",
   "name": "python3"
  },
  "language_info": {
   "codemirror_mode": {
    "name": "ipython",
    "version": 3
   },
   "file_extension": ".py",
   "mimetype": "text/x-python",
   "name": "python",
   "nbconvert_exporter": "python",
   "pygments_lexer": "ipython3",
   "version": "3.6.5"
  }
 },
 "nbformat": 4,
 "nbformat_minor": 2
}
